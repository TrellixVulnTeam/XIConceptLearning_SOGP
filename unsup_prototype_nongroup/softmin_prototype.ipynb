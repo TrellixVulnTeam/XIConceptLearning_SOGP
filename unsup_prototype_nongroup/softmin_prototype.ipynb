{
 "cells": [
  {
   "cell_type": "code",
   "execution_count": 1,
   "metadata": {},
   "outputs": [],
   "source": [
    "import os\n",
    "import time\n",
    "\n",
    "import matplotlib\n",
    "matplotlib.use('Agg')\n",
    "import matplotlib.pyplot as plt\n",
    "%matplotlib inline\n",
    "\n",
    "import torch\n",
    "from torch.optim import lr_scheduler\n",
    "from torch.utils.tensorboard import SummaryWriter\n",
    "\n",
    "import torchvision\n",
    "\n",
    "import torchvision.transforms.functional as TF\n",
    "from PIL import Image\n",
    "\n",
    "import numpy as np\n",
    "\n",
    "from model import RAE\n",
    "from network import *\n",
    "from config import get_config\n",
    "from data import batch_elastic_transform, get_dataloader"
   ]
  },
  {
   "cell_type": "code",
   "execution_count": 2,
   "metadata": {},
   "outputs": [],
   "source": [
    "# mnist 2021-02-07_15-15-51\n",
    "# shape_color 2021-02-07_15-29-42\n",
    "# shape_color_size 2021-02-07_15-35-57\n",
    "# shape_size 2021-02-07_16-13-50"
   ]
  },
  {
   "cell_type": "code",
   "execution_count": 3,
   "metadata": {},
   "outputs": [
    {
     "data": {
      "text/plain": [
       "'2021-02-07_15-15-51'"
      ]
     },
     "execution_count": 3,
     "metadata": {},
     "output_type": "execute_result"
    }
   ],
   "source": [
    "config = get_config(experiment_name='2021-02-07_15-15-51')\n",
    "config['experiment_name']"
   ]
  },
  {
   "cell_type": "code",
   "execution_count": 4,
   "metadata": {},
   "outputs": [
    {
     "data": {
      "text/plain": [
       "'00499.pth'"
      ]
     },
     "execution_count": 4,
     "metadata": {},
     "output_type": "execute_result"
    }
   ],
   "source": [
    "model_names = os.listdir(config['model_dir'])\n",
    "model_names.sort()\n",
    "model_path = os.path.join(config['model_dir'], model_names[-1])\n",
    "state = torch.load(model_path)\n",
    "\n",
    "config = state['config']\n",
    "model_state_dict = state['model']\n",
    "\n",
    "model_names[-1]"
   ]
  },
  {
   "cell_type": "code",
   "execution_count": 5,
   "metadata": {},
   "outputs": [
    {
     "name": "stdout",
     "output_type": "stream",
     "text": [
      "Overriding img_shape and n_prototype_vectors\n"
     ]
    }
   ],
   "source": [
    "data_loader = get_dataloader(config)"
   ]
  },
  {
   "cell_type": "code",
   "execution_count": 6,
   "metadata": {},
   "outputs": [],
   "source": [
    "model = RAE(input_dim=(1,config['img_shape'][0],config['img_shape'][1], config['img_shape'][2]), n_z=config['n_z'], filter_dim=config['filter_dim'], n_prototype_vectors=config['n_prototype_vectors'])\n",
    "model.load_state_dict(model_state_dict)\n",
    "model = model.to(config['device'])"
   ]
  },
  {
   "cell_type": "code",
   "execution_count": 7,
   "metadata": {},
   "outputs": [],
   "source": [
    "def plot_prototypes():\n",
    "    # decode prototype vectors\n",
    "    prototype_vectors = model.prototype_layer.prototype_vectors\n",
    "    prototype_imgs = model.dec.forward(prototype_vectors.reshape((-1,config['n_z'],2,2))).detach().cpu()\n",
    "\n",
    "    # visualize the prototype images\n",
    "    n_cols = 3\n",
    "    n_rows = config['n_prototype_vectors'] // n_cols + 1 if config['n_prototype_vectors'] % n_cols != 0 else config['n_prototype_vectors'] // n_cols\n",
    "    g, b = plt.subplots(n_rows, n_cols, figsize=(n_cols, n_rows))\n",
    "    for i in range(n_rows):\n",
    "        for j in range(n_cols):\n",
    "            if i*n_cols + j < config['n_prototype_vectors']:\n",
    "                b[i][j].imshow(prototype_imgs[i*n_cols + j].reshape(config['img_shape']).permute(1,2,0).squeeze(), # config['img_shape'][1], config['img_shape'][2]\n",
    "                                cmap='gray',\n",
    "                                interpolation='none')\n",
    "                b[i][j].axis('off')\n",
    "\n",
    "    # plt.savefig(img_save_path,\n",
    "    #             transparent=True,\n",
    "    #             bbox_inches='tight',\n",
    "    #             pad_inches=0)\n",
    "    # plt.close()\n",
    "    plt.show()"
   ]
  },
  {
   "cell_type": "code",
   "execution_count": 8,
   "metadata": {},
   "outputs": [],
   "source": [
    "def plot_s_mod(s_mod=None):\n",
    "    imgs = []\n",
    "    for batch in data_loader:\n",
    "        imgs = batch[0].to(config['device'])\n",
    "        break\n",
    "    n_cols = 3\n",
    "    examples_to_show = 10\n",
    "\n",
    "    # decoded image\n",
    "    encoded = model.enc.forward(imgs[:examples_to_show])\n",
    "        \n",
    "    prototype_vectors = model.prototype_layer.prototype_vectors\n",
    "    \n",
    "    # decoded softmin weighted prototype\n",
    "    softmin = torch.nn.Softmin(dim=1)\n",
    "    p_z = list_of_distances(encoded.view(-1, model.input_dim_prototype), prototype_vectors, norm='l2')\n",
    "    # std = (config['training_epochs'] - e) / config['training_epochs']\n",
    "    # p_z += torch.normal(torch.zeros_like(p_z), std)\n",
    "\n",
    "    if s_mod == None:\n",
    "        s = softmin(p_z)\n",
    "    else:\n",
    "        s = s_mod\n",
    "        \n",
    "    softmin_prototype_vector = s@prototype_vectors\n",
    "    decoded_proto_softmin = model.dec.forward(softmin_prototype_vector.reshape(encoded.shape))\n",
    "\n",
    "    decoded_proto_softmin = decoded_proto_softmin.detach().cpu()\n",
    "    imgs = imgs.detach().cpu()\n",
    "\n",
    "    # compare original images to their reconstructions\n",
    "    n_rows = 2\n",
    "    f, a = plt.subplots(n_rows, examples_to_show, figsize=(examples_to_show, n_rows))\n",
    "\n",
    "    a[0][0].text(0,-2, s='recon softmin proto', fontsize=10)\n",
    "    a[1][0].text(-1,-0.6, s='softmin weights', fontsize=10)\n",
    "\n",
    "    for i in range(examples_to_show):\n",
    "\n",
    "        a[0][i].imshow(decoded_proto_softmin[i].reshape(config['img_shape']).permute(1,2,0).squeeze(), \n",
    "                        cmap='gray',\n",
    "                        interpolation='none')\n",
    "        a[0][i].axis('off')\n",
    "\n",
    "        n_cols_proto = n_cols\n",
    "        n_rows_proto = config['n_prototype_vectors'] // n_cols + 1 if config['n_prototype_vectors'] % n_cols != 0 else config['n_prototype_vectors'] // n_cols\n",
    "\n",
    "        weights_i = np.zeros((n_rows_proto * n_cols_proto, ))\n",
    "        weights_i[0:len(s[i])] = s[i].detach().cpu()\n",
    "        weights_i = weights_i.reshape(n_rows_proto,n_cols_proto)\n",
    "        weights_i = 1 - weights_i\n",
    "\n",
    "        a[1][i].imshow(weights_i,\n",
    "                        interpolation='none')\n",
    "        a[1][i].axis('off')\n",
    "\n",
    "    plt.show()"
   ]
  },
  {
   "cell_type": "code",
   "execution_count": 9,
   "metadata": {},
   "outputs": [],
   "source": [
    "def mod_s_random(n_combs_min=2, n_combs_max=4):\n",
    "    imgs = []\n",
    "    for batch in data_loader:\n",
    "        imgs = batch[0].to(config['device'])\n",
    "        break\n",
    "    examples_to_show = 10\n",
    "    prototype_vectors = model.prototype_layer.prototype_vectors\n",
    "    encoded = model.enc.forward(imgs[:examples_to_show])\n",
    "    s_tmp = list_of_distances(encoded.view(-1, model.input_dim_prototype), prototype_vectors, norm='l2')\n",
    "    \n",
    "    s_mod = torch.zeros_like(s_tmp)\n",
    "    for i in range(s_mod.shape[0]):\n",
    "        n_mod = np.random.randint(n_combs_min,n_combs_max+1)\n",
    "        for j in range(n_mod):\n",
    "            idx = np.random.randint(0,s_mod.shape[1])\n",
    "            s_mod[i][idx] = 1/n_mod\n",
    "    return s_mod"
   ]
  },
  {
   "cell_type": "code",
   "execution_count": 10,
   "metadata": {},
   "outputs": [],
   "source": [
    "def mod_s_custom(combs=[[0,1],[1,2]]):\n",
    "    imgs = []\n",
    "    for batch in data_loader:\n",
    "        imgs = batch[0].to(config['device'])\n",
    "        break\n",
    "    examples_to_show = 10\n",
    "    prototype_vectors = model.prototype_layer.prototype_vectors\n",
    "    encoded = model.enc.forward(imgs[:examples_to_show])\n",
    "    s_tmp = list_of_distances(encoded.view(-1, model.input_dim_prototype), prototype_vectors, norm='l2')\n",
    "    \n",
    "    s_mod = torch.zeros_like(s_tmp)\n",
    "    for i in range(len(combs)):\n",
    "        for j in range(len(combs[i])):\n",
    "            s_mod[i][combs[i][j]] = 1/len(combs[i])\n",
    "    return s_mod"
   ]
  },
  {
   "cell_type": "code",
   "execution_count": 11,
   "metadata": {},
   "outputs": [
    {
     "data": {
      "image/png": "[encoded data removed]",
      "text/plain": [
       "<Figure size 216x288 with 12 Axes>"
      ]
     },
     "metadata": {
      "needs_background": "light"
     },
     "output_type": "display_data"
    }
   ],
   "source": [
    "plot_prototypes()"
   ]
  },
  {
   "cell_type": "code",
   "execution_count": 12,
   "metadata": {},
   "outputs": [
    {
     "data": {
      "image/png": "[encoded data removed]",
      "text/plain": [
       "<Figure size 720x144 with 20 Axes>"
      ]
     },
     "metadata": {
      "needs_background": "light"
     },
     "output_type": "display_data"
    }
   ],
   "source": [
    "# custom combinations with list of indices list\n",
    "s_mod = mod_s_custom([[2,6], [5,7], [0,8], [0,7], [0,6]])\n",
    "# s_mod = mod_s_custom([[2,8], [7,9], [2,5], [1,5], [3,7], [3,9], [5,8]])\n",
    "plot_s_mod(s_mod)"
   ]
  },
  {
   "cell_type": "code",
   "execution_count": 13,
   "metadata": {},
   "outputs": [
    {
     "data": {
      "image/png": "[encoded data removed]",
      "text/plain": [
       "<Figure size 720x144 with 20 Axes>"
      ]
     },
     "metadata": {
      "needs_background": "light"
     },
     "output_type": "display_data"
    }
   ],
   "source": [
    "np.random.seed(42)\n",
    "\n",
    "# random combinations of a minimum of n_combs_min prototypes and maximum of n_combs_max prototypes\n",
    "s_mod = mod_s_random(n_combs_min=2, n_combs_max=2)\n",
    "plot_s_mod(s_mod)"
   ]
  },
  {
   "cell_type": "code",
   "execution_count": 14,
   "metadata": {},
   "outputs": [],
   "source": [
    "# prototype_vectors = model.prototype_layer.prototype_vectors\n",
    "# combs_all = []\n",
    "# for i in range(prototype_vectors.shape[0]):\n",
    "#     for j in range(prototype_vectors.shape[0]):\n",
    "#         combs_all += [[i,j]]"
   ]
  },
  {
   "cell_type": "code",
   "execution_count": null,
   "metadata": {},
   "outputs": [],
   "source": []
  }
 ],
 "metadata": {
  "kernelspec": {
   "display_name": "Python 3",
   "language": "python",
   "name": "python3"
  },
  "language_info": {
   "codemirror_mode": {
    "name": "ipython",
    "version": 3
   },
   "file_extension": ".py",
   "mimetype": "text/x-python",
   "name": "python",
   "nbconvert_exporter": "python",
   "pygments_lexer": "ipython3",
   "version": "3.6.10"
  }
 },
 "nbformat": 4,
 "nbformat_minor": 4
}
