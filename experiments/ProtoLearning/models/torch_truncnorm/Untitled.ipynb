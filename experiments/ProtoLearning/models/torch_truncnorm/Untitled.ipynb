{
 "cells": [
  {
   "cell_type": "code",
   "execution_count": 1,
   "metadata": {},
   "outputs": [],
   "source": [
    "import torch\n",
    "import numpy as np\n",
    "from TruncatedNormal import TruncatedNormal"
   ]
  },
  {
   "cell_type": "code",
   "execution_count": 2,
   "metadata": {},
   "outputs": [
    {
     "name": "stdout",
     "output_type": "stream",
     "text": [
      "mean 1.4896726608276367 1.489672527191059\n",
      "var 0.08257712423801422 0.08257743451756827\n",
      "cdf 0.41396990418434143 0.41396997046679446\n",
      "icdf 1.3210030794143677 1.321003099849791\n",
      "logpdf 0.009727835655212402 0.009727800490949678\n",
      "entropy -0.0006833076477050781 -0.0006832231905438135\n"
     ]
    }
   ],
   "source": [
    "from scipy.stats import truncnorm\n",
    "loc, scale, a, b = 1., 2., 1., 2.\n",
    "tn_pt = TruncatedNormal(loc, scale, a, b)\n",
    "mean_pt, var_pt = tn_pt.mean.item(), tn_pt.variance.item()\n",
    "alpha, beta = (a - loc) / scale, (b - loc) / scale\n",
    "mean_sp, var_sp = truncnorm.stats(alpha, beta, loc=loc, scale=scale, moments='mv')\n",
    "print('mean', mean_pt, mean_sp)\n",
    "print('var', var_pt, var_sp)\n",
    "print('cdf', tn_pt.cdf(1.4).item(), truncnorm.cdf(1.4, alpha, beta, loc=loc, scale=scale))\n",
    "print('icdf', tn_pt.icdf(0.333).item(), truncnorm.ppf(0.333, alpha, beta, loc=loc, scale=scale))\n",
    "print('logpdf', tn_pt.log_prob(1.5).item(), truncnorm.logpdf(1.5, alpha, beta, loc=loc, scale=scale))\n",
    "print('entropy', tn_pt.entropy.item(), truncnorm.entropy(alpha, beta, loc=loc, scale=scale))"
   ]
  },
  {
   "cell_type": "code",
   "execution_count": 29,
   "metadata": {},
   "outputs": [],
   "source": [
    "tn_pt = TruncatedNormal(0., .75, -1., 1.)"
   ]
  },
  {
   "cell_type": "code",
   "execution_count": 32,
   "metadata": {},
   "outputs": [],
   "source": [
    "samples = tn_pt.rsample([100000])\n",
    "samples.requires_grad = True"
   ]
  },
  {
   "cell_type": "code",
   "execution_count": 34,
   "metadata": {},
   "outputs": [
    {
     "data": {
      "image/png": "[encoded data removed]",
      "text/plain": [
       "<Figure size 432x288 with 1 Axes>"
      ]
     },
     "metadata": {
      "needs_background": "light"
     },
     "output_type": "display_data"
    }
   ],
   "source": [
    "import matplotlib.pyplot as plt\n",
    "plt.hist(samples.detach().numpy())\n",
    "plt.show()"
   ]
  },
  {
   "cell_type": "code",
   "execution_count": null,
   "metadata": {},
   "outputs": [],
   "source": [
    "def parameterized_truncated_normal(uniform, mu, sigma, a, b):\n",
    "    normal = torch.distributions.normal.Normal(0, 1)\n",
    "\n",
    "    alpha = (a - mu) / sigma\n",
    "    beta = (b - mu) / sigma\n",
    "\n",
    "    alpha_normal_cdf = normal.cdf(alpha)\n",
    "    p = alpha_normal_cdf + (normal.cdf(beta) - alpha_normal_cdf) * uniform\n",
    "\n",
    "    p = p.numpy()\n",
    "    one = np.array(1, dtype=p.dtype)\n",
    "    epsilon = np.array(np.finfo(p.dtype).eps, dtype=p.dtype)\n",
    "    v = np.clip(2 * p - 1, -one + epsilon, one - epsilon)\n",
    "    x = mu + sigma * np.sqrt(2) * torch.erfinv(torch.from_numpy(v))\n",
    "    x = torch.clamp(x, a, b)\n",
    "\n",
    "    return x\n",
    "\n",
    "\n",
    "def truncated_normal(uniform):\n",
    "    return parameterized_truncated_normal(uniform, mu=0.0, sigma=1.0, a=-2, b=2)\n",
    "\n",
    "\n",
    "def sample_truncated_normal(shape=()):\n",
    "    return truncted_normal(torch.from_numpy(np.random.uniform(0, 1, shape)))"
   ]
  }
 ],
 "metadata": {
  "kernelspec": {
   "display_name": "Python 3",
   "language": "python",
   "name": "python3"
  },
  "language_info": {
   "codemirror_mode": {
    "name": "ipython",
    "version": 3
   },
   "file_extension": ".py",
   "mimetype": "text/x-python",
   "name": "python",
   "nbconvert_exporter": "python",
   "pygments_lexer": "ipython3",
   "version": "3.9.1"
  }
 },
 "nbformat": 4,
 "nbformat_minor": 4
}
