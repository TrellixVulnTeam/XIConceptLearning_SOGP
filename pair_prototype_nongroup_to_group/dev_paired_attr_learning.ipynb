{
 "cells": [
  {
   "cell_type": "code",
   "execution_count": 1,
   "metadata": {},
   "outputs": [],
   "source": [
    "import torch\n",
    "import torch.nn as nn\n",
    "import matplotlib.pyplot as plt"
   ]
  },
  {
   "cell_type": "code",
   "execution_count": 2,
   "metadata": {},
   "outputs": [],
   "source": [
    "softmin = torch.nn.Softmin(dim=0)\n",
    "softmax = torch.nn.Softmax(dim=0)\n",
    "cos = torch.nn.CosineSimilarity(dim=0, eps=1e-6)"
   ]
  },
  {
   "cell_type": "code",
   "execution_count": 15,
   "metadata": {},
   "outputs": [
    {
     "name": "stdout",
     "output_type": "stream",
     "text": [
      "tensor([0.0000, 0.2000, 0.1000, 1.0000])\n",
      "tensor([-7.8201e-06,  1.9999e-01,  1.0001e-01,  1.0000e+00])\n",
      "\n",
      "\n",
      "tensor([1.0000, 0.4500, 0.2000, 3.0000])\n",
      "tensor([0.2972, 1.6220, 0.9441, 3.6569])\n",
      "\n",
      "\n",
      "tensor(1.0000)\n",
      "tensor(0.9240)\n",
      "\n",
      "\n",
      "tensor([0.4810, 0.5190])\n"
     ]
    }
   ],
   "source": [
    "p11 = torch.tensor([0., 0.2, 0.1, 1.])\n",
    "p12 = p11 + torch.normal(torch.zeros_like(p11), 0.00001)\n",
    "\n",
    "p21 = torch.tensor([1., 0.45, 0.2, 3.])\n",
    "p22 = p21 + torch.normal(torch.zeros_like(p21), 1.)\n",
    "\n",
    "print(p11)\n",
    "print(p12)\n",
    "print('\\n')\n",
    "print(p21)\n",
    "print(p22)\n",
    "print('\\n')\n",
    "\n",
    "print(cos(p11, p12))\n",
    "print(cos(p21, p22))\n",
    "print('\\n')\n",
    "\n",
    "print(softmin(torch.tensor([cos(p11, p12), cos(p21, p22)])))"
   ]
  },
  {
   "cell_type": "code",
   "execution_count": 3,
   "metadata": {},
   "outputs": [],
   "source": [
    "class PrototypeLayer(torch.nn.Module):\n",
    "    def __init__(self, input_dim=5, n_prototype_vectors=2, n_prototype_groups=2, device=\"cpu\"):\n",
    "        super(PrototypeLayer, self).__init__()\n",
    "        self.n_prototype_groups = n_prototype_groups\n",
    "        self.n_prototype_vectors = n_prototype_vectors\n",
    "        self.device = device\n",
    "#         self.prototype_vectors = torch.nn.Parameter(torch.rand(n_prototype_groups, n_prototype_vectors, input_dim,\n",
    "#                                                                device=self.device, requires_grad=True))\n",
    "#         nn.init.xavier_uniform_(self.prototype_vectors, gain=1.0)\n",
    "\n",
    "#         self.prototype_vectors = torch.nn.Parameter(torch.tensor([[[1., 0., 1.], [0.5, 2., 0.1]],\n",
    "#                                                                   [[0.3, 0.2, 0.3], [0.4, 0.21, 0.1]]],\n",
    "#                                                                device=self.device, requires_grad=True))\n",
    "        self.prototype_vectors = torch.nn.Parameter(torch.tensor([[[0.3, 0.2, 0.3], [0.4, 0.21, 0.1]],\n",
    "                                                                  [[1., 0., 1.], [0.5, 2., 0.1]]],\n",
    "                                                               device=self.device, requires_grad=True))\n",
    "\n",
    "    def forward(self, x):\n",
    "        pass\n",
    "\n",
    "# model = PrototypeLayer()\n",
    "# model.prototype_vectors"
   ]
  },
  {
   "cell_type": "code",
   "execution_count": 4,
   "metadata": {},
   "outputs": [],
   "source": [
    "def list_of_distances(X, Y, norm='l2'):\n",
    "    '''\n",
    "    Given a list of vectors, X = [x_1, ..., x_n], and another list of vectors,\n",
    "    Y = [y_1, ... , y_m], we return a list of vectors\n",
    "            [[d(x_1, y_1), d(x_1, y_2), ... , d(x_1, y_m)],\n",
    "             ...\n",
    "             [d(x_n, y_1), d(x_n, y_2), ... , d(x_n, y_m)]],\n",
    "    where the distance metric used is the sqared euclidean distance.\n",
    "    The computation is achieved through a clever use of broadcasting.\n",
    "    '''\n",
    "    # XX = torch.reshape(list_of_norms(X), shape=(-1, 1))\n",
    "    # YY = torch.reshape(list_of_norms(Y), shape=(1, -1))\n",
    "    # output = XX + YY - 2 * torch.matmul(X, torch.transpose(Y))\n",
    "    # return output\n",
    "    \n",
    "    XX = list_of_norms(X, norm=norm).view(-1, 1)\n",
    "    YY = list_of_norms(Y, norm=norm).view(1, -1)\n",
    "    return XX + YY - 2 * torch.matmul(X, torch.transpose(Y, 0, 1))\n",
    "\n",
    "\n",
    "def list_of_norms(X, norm='l2'):\n",
    "    '''\n",
    "    X is a list of vectors X = [x_1, ..., x_n], we return\n",
    "        [d(x_1, x_1), d(x_2, x_2), ... , d(x_n, x_n)], where the distance\n",
    "    function is the squared euclidean distance.\n",
    "    '''\n",
    "    if norm == 'l2':\n",
    "        return torch.sum(torch.pow(X, 2), axis=1)\n",
    "    elif norm == 'l1':\n",
    "        return torch.sum(torch.abs(X), axis=1)\n",
    "    \n",
    "    return None\n",
    "\n",
    "\n",
    "def eucl_dist(x1, x2):\n",
    "    return torch.sum(torch.pow(x1 - x2, 2))\n",
    "\n",
    "def l1_norm(x1, x2):\n",
    "    return torch.sum(torch.abs(x1 - x2))"
   ]
  },
  {
   "cell_type": "code",
   "execution_count": 211,
   "metadata": {},
   "outputs": [
    {
     "name": "stdout",
     "output_type": "stream",
     "text": [
      "Parameter containing:\n",
      "tensor([[[0.3000, 0.2000, 0.3000],\n",
      "         [0.4000, 0.2100, 0.1000]],\n",
      "\n",
      "        [[1.0000, 0.0000, 1.0000],\n",
      "         [0.5000, 2.0000, 0.1000]]], requires_grad=True)\n",
      "Parameter containing:\n",
      "tensor([[[ 0.3500,  0.2050,  0.2000],\n",
      "         [ 0.3500,  0.2050,  0.2000]],\n",
      "\n",
      "        [[ 1.6367, -0.6367,  1.6367],\n",
      "         [-0.1367,  2.6367, -0.5367]]], requires_grad=True)\n"
     ]
    },
    {
     "data": {
      "image/png": "[encoded data removed]",
      "text/plain": [
       "<Figure size 432x288 with 1 Axes>"
      ]
     },
     "metadata": {
      "needs_background": "light"
     },
     "output_type": "display_data"
    }
   ],
   "source": [
    "model = PrototypeLayer()\n",
    "print(model.prototype_vectors)\n",
    "optimizer = torch.optim.Adam(model.parameters(), lr=0.001)\n",
    "\n",
    "losses = []\n",
    "for e in range(1000):\n",
    "    \n",
    "    tmp = torch.empty(2, device='cpu')\n",
    "    for n_g in range(2):\n",
    "#         tmp[n_g] = eucl_dist(model.prototype_vectors[n_g, 0], model.prototype_vectors[n_g, 1])\n",
    "        tmp[n_g] = l1_norm(model.prototype_vectors[n_g, 0], model.prototype_vectors[n_g, 1])\n",
    "    \n",
    "    s = softmin(tmp)\n",
    "                             \n",
    "    loss = torch.abs(1 - torch.sum(torch.pow(s, 0.5)))\n",
    "    \n",
    "    losses.append(loss.item())\n",
    "#     print(f\"{tmp}\")\n",
    "#     print(f\"{s}\")\n",
    "#     print(f\"\\nEpoch {e} Loss: {loss}\")\n",
    "\n",
    "    optimizer.zero_grad()\n",
    "    loss.backward()\n",
    "    optimizer.step()\n",
    "    \n",
    "print(model.prototype_vectors) \n",
    "plt.figure()\n",
    "plt.plot(losses)\n",
    "plt.show()"
   ]
  },
  {
   "cell_type": "code",
   "execution_count": 151,
   "metadata": {},
   "outputs": [
    {
     "name": "stdout",
     "output_type": "stream",
     "text": [
      "tensor([0.8808, 0.1192], grad_fn=<SoftmaxBackward>)\n",
      "tensor(0.2838, grad_fn=<AbsBackward>)\n"
     ]
    }
   ],
   "source": [
    "class tmp_model(nn.Module):\n",
    "    def __init__(self, input_dim=5, n_prototype_vectors=2, n_prototype_groups=2, device=\"cpu\"):\n",
    "        super(tmp_model, self).__init__()\n",
    "        self.x = torch.nn.Parameter(torch.tensor([0., 2.], requires_grad=True))\n",
    "\n",
    "    def forward():\n",
    "        pass\n",
    "        \n",
    "net = tmp_model()\n",
    "optimizer = torch.optim.Adam(net.parameters(), lr=0.001)\n",
    "\n",
    "out = softmin(net.x)\n",
    "print(out)\n",
    "print(torch.abs(1 - torch.sum(torch.pow(out, 0.5))))\n",
    "\n",
    "# for e in range(10):\n",
    "\n",
    "# loss = torch.nn.MSELoss(out, torch.tensor([1., 0.]))\n",
    "# print(loss)"
   ]
  },
  {
   "cell_type": "code",
   "execution_count": 157,
   "metadata": {},
   "outputs": [
    {
     "data": {
      "text/plain": [
       "tensor(0.4059)"
      ]
     },
     "execution_count": 157,
     "metadata": {},
     "output_type": "execute_result"
    }
   ],
   "source": [
    "torch.abs(1 - torch.sum(torch.pow(softmin(torch.tensor([1.2949, 0.8567])), 0.5)))"
   ]
  },
  {
   "cell_type": "code",
   "execution_count": 16,
   "metadata": {},
   "outputs": [
    {
     "data": {
      "text/plain": [
       "tensor(0.7143)"
      ]
     },
     "execution_count": 16,
     "metadata": {},
     "output_type": "execute_result"
    }
   ],
   "source": [
    "torch.abs(1 - torch.sum(torch.pow(softmin(torch.tensor([.2949, 0.08567, 0.8])), 0.5)))"
   ]
  },
  {
   "cell_type": "code",
   "execution_count": 17,
   "metadata": {},
   "outputs": [
    {
     "data": {
      "text/plain": [
       "tensor(0.3855)"
      ]
     },
     "execution_count": 17,
     "metadata": {},
     "output_type": "execute_result"
    }
   ],
   "source": [
    "torch.abs(1 - torch.sum(torch.pow(softmin(torch.tensor([2.2949, 0.008567, 3.8])), 0.5)))"
   ]
  },
  {
   "cell_type": "code",
   "execution_count": null,
   "metadata": {},
   "outputs": [],
   "source": []
  }
 ],
 "metadata": {
  "kernelspec": {
   "display_name": "Python 3",
   "language": "python",
   "name": "python3"
  },
  "language_info": {
   "codemirror_mode": {
    "name": "ipython",
    "version": 3
   },
   "file_extension": ".py",
   "mimetype": "text/x-python",
   "name": "python",
   "nbconvert_exporter": "python",
   "pygments_lexer": "ipython3",
   "version": "3.9.1"
  }
 },
 "nbformat": 4,
 "nbformat_minor": 4
}