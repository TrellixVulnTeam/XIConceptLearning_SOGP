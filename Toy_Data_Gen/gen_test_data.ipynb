{
 "cells": [
  {
   "cell_type": "code",
   "execution_count": 1,
   "metadata": {},
   "outputs": [],
   "source": [
    "dataset_name = 'train_toydata_color_shape_size'"
   ]
  },
  {
   "cell_type": "code",
   "execution_count": 2,
   "metadata": {},
   "outputs": [],
   "source": [
    "import numpy as np\n",
    "import matplotlib.pyplot as plt\n",
    "from PIL import Image, ImageDraw\n",
    "\n",
    "LABELS = ['square', 'circle', 'cyan', 'red', 'yellow', 'green']\n",
    "\n",
    "def gen_dataset(num_samples):\n",
    "    \n",
    "    colors = [(0, 192, 192),\n",
    "         (255, 0, 0),\n",
    "         (255, 255, 0), \n",
    "         (0, 255, 0)\n",
    "         ]\n",
    "    \n",
    "    # generate rectangles and circles\n",
    "    num_shapes = 2\n",
    "    num_sizes = 3\n",
    "    num_colors = len(colors)\n",
    "    \n",
    "    dataset = []\n",
    "    labels = []\n",
    "    for i in range(num_samples):\n",
    "        im = Image.new('RGB', (28, 28), (128, 128, 128))\n",
    "        draw = ImageDraw.Draw(im)\n",
    "\n",
    "        # randomly draw a color\n",
    "        color_id = np.random.randint(0, num_colors)\n",
    "        \n",
    "        # randomly select a shape (either square or circle)\n",
    "        shape_id = np.random.randint(0, num_shapes)\n",
    "        \n",
    "        # randomly select a size (small, medium, large)\n",
    "        if num_sizes == 1:\n",
    "            size_id = 8\n",
    "        else:\n",
    "            size_id = np.random.randint(1, num_sizes+1) * 4\n",
    "        \n",
    "        if shape_id == 0:\n",
    "            draw.rectangle((0+size_id, 0+size_id, 28-size_id, 28-size_id), fill=colors[color_id])\n",
    "\n",
    "        elif shape_id == 1:\n",
    "            draw.ellipse((0+size_id, 0+size_id, 28-size_id, 28-size_id), fill=colors[color_id])\n",
    "\n",
    "        label = np.zeros(num_shapes + num_colors)  \n",
    "        label[0:num_shapes][shape_id] = 1.\n",
    "        label[num_shapes:][color_id] = 1.\n",
    "        labels.append(label)    \n",
    "            \n",
    "        im_np = np.array(im)\n",
    "        dataset.append(im_np)\n",
    "    \n",
    "    return np.array(dataset), np.array(labels)"
   ]
  },
  {
   "cell_type": "code",
   "execution_count": 3,
   "metadata": {},
   "outputs": [],
   "source": [
    "num_train_samples = 10000\n",
    "train_data, train_labels = gen_dataset(num_train_samples)"
   ]
  },
  {
   "cell_type": "code",
   "execution_count": 4,
   "metadata": {},
   "outputs": [
    {
     "data": {
      "image/png": "[encoded data removed]",
      "text/plain": [
       "<Figure size 432x288 with 1 Axes>"
      ]
     },
     "metadata": {
      "needs_background": "light"
     },
     "output_type": "display_data"
    },
    {
     "name": "stdout",
     "output_type": "stream",
     "text": [
      "[0. 1. 0. 0. 0. 1.]\n"
     ]
    },
    {
     "data": {
      "image/png": "[encoded data removed]",
      "text/plain": [
       "<Figure size 432x288 with 1 Axes>"
      ]
     },
     "metadata": {
      "needs_background": "light"
     },
     "output_type": "display_data"
    },
    {
     "name": "stdout",
     "output_type": "stream",
     "text": [
      "[0. 1. 1. 0. 0. 0.]\n"
     ]
    },
    {
     "data": {
      "image/png": "[encoded data removed]",
      "text/plain": [
       "<Figure size 432x288 with 1 Axes>"
      ]
     },
     "metadata": {
      "needs_background": "light"
     },
     "output_type": "display_data"
    },
    {
     "name": "stdout",
     "output_type": "stream",
     "text": [
      "[1. 0. 0. 0. 0. 1.]\n"
     ]
    }
   ],
   "source": [
    "plt.figure()\n",
    "plt.imshow(train_data[0])\n",
    "plt.show()\n",
    "print(train_labels[1])\n",
    "\n",
    "plt.figure()\n",
    "plt.imshow(train_data[2])\n",
    "plt.show()\n",
    "print(train_labels[2])\n",
    "\n",
    "plt.figure()\n",
    "plt.imshow(train_data[100])\n",
    "plt.show()\n",
    "print(train_labels[100])"
   ]
  },
  {
   "cell_type": "code",
   "execution_count": 5,
   "metadata": {},
   "outputs": [],
   "source": [
    "np.save(f\"../Data/{dataset_name}.npy\", train_data)\n",
    "np.save(f\"../Data/{dataset_name}_labels.npy\", train_labels)"
   ]
  },
  {
   "cell_type": "code",
   "execution_count": null,
   "metadata": {},
   "outputs": [],
   "source": []
  }
 ],
 "metadata": {
  "kernelspec": {
   "display_name": "Python 3",
   "language": "python",
   "name": "python3"
  },
  "language_info": {
   "codemirror_mode": {
    "name": "ipython",
    "version": 3
   },
   "file_extension": ".py",
   "mimetype": "text/x-python",
   "name": "python",
   "nbconvert_exporter": "python",
   "pygments_lexer": "ipython3",
   "version": "3.6.10"
  }
 },
 "nbformat": 4,
 "nbformat_minor": 2
}
