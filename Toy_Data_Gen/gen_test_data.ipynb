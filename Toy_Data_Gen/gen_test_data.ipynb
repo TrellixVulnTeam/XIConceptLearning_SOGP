{
 "cells": [
  {
   "cell_type": "code",
   "execution_count": 1,
   "metadata": {},
   "outputs": [],
   "source": [
    "import numpy as np\n",
    "import matplotlib.pyplot as plt\n",
    "from PIL import Image, ImageDraw\n",
    "\n",
    "LABELS = ['square', 'circle', 'cyan', 'red', 'yellow', 'green']\n",
    "\n",
    "def gen_dataset(num_samples):\n",
    "    \n",
    "    colors = [(0, 192, 192),\n",
    "         (255, 0, 0),\n",
    "         (255, 255, 0), \n",
    "         (0, 255, 0)\n",
    "         ]\n",
    "    num_shapes = 2\n",
    "    num_colors = len(colors)\n",
    "    \n",
    "    dataset = []\n",
    "    labels = []\n",
    "    for i in range(num_samples):\n",
    "        im = Image.new('RGB', (28, 28), (128, 128, 128))\n",
    "        draw = ImageDraw.Draw(im)\n",
    "\n",
    "        # randomly draw a color\n",
    "        color_id = np.random.randint(0, num_colors)\n",
    "        \n",
    "        # randomly select a shape (either square or circle)\n",
    "        shape_id = np.random.randint(0, num_shapes)\n",
    "        if shape_id == 0:\n",
    "            draw.rectangle((5, 5, 22, 22), fill=colors[color_id])\n",
    "        elif shape_id == 1:\n",
    "            draw.ellipse((5, 5, 22, 22), fill=colors[color_id])\n",
    "\n",
    "        label = np.zeros(num_shapes + num_colors)  \n",
    "        label[0:num_shapes][shape_id] = 1.\n",
    "        label[num_shapes:][color_id] = 1.\n",
    "        labels.append(label)    \n",
    "            \n",
    "        im_np = np.array(im)\n",
    "        dataset.append(im_np)\n",
    "    \n",
    "    return np.array(dataset), np.array(labels)"
   ]
  },
  {
   "cell_type": "code",
   "execution_count": 2,
   "metadata": {},
   "outputs": [],
   "source": [
    "num_train_samples = 10000\n",
    "num_val_samples = 1000\n",
    "\n",
    "train_data, train_labels = gen_dataset(num_train_samples)\n",
    "val_data, val_labels = gen_dataset(num_val_samples)"
   ]
  },
  {
   "cell_type": "code",
   "execution_count": 6,
   "metadata": {},
   "outputs": [
    {
     "data": {
      "text/plain": "<Figure size 432x288 with 1 Axes>",
      "image/png": "[encoded data removed]"
     },
     "metadata": {
      "needs_background": "light"
     },
     "output_type": "display_data"
    },
    {
     "name": "stdout",
     "output_type": "stream",
     "text": [
      "[1. 0. 0. 1. 0. 0.]\n",
      "[1. 0. 1. 0. 0. 0.]\n",
      "[0. 1. 1. 0. 0. 0.]\n"
     ]
    },
    {
     "data": {
      "text/plain": "<Figure size 432x288 with 1 Axes>",
      "image/png": "[encoded data removed]"
     },
     "metadata": {
      "needs_background": "light"
     },
     "output_type": "display_data"
    },
    {
     "data": {
      "text/plain": "<Figure size 432x288 with 1 Axes>",
      "image/png": "[encoded data removed]"
     },
     "metadata": {
      "needs_background": "light"
     },
     "output_type": "display_data"
    }
   ],
   "source": [
    "plt.figure()\n",
    "plt.imshow(train_data[0])\n",
    "plt.show()\n",
    "print(train_labels[0])\n",
    "\n",
    "plt.figure()\n",
    "plt.imshow(train_data[2])\n",
    "plt.show()\n",
    "print(train_labels[2])\n",
    "\n",
    "plt.figure()\n",
    "plt.imshow(train_data[100])\n",
    "plt.show()\n",
    "print(train_labels[100])"
   ]
  },
  {
   "cell_type": "code",
   "execution_count": 50,
   "metadata": {
    "pycharm": {
     "name": "#%%\n"
    }
   },
   "outputs": [],
   "source": [
    "np.save(\"data/train_toydata.npy\", train_data)\n",
    "np.save(\"data/val_toydata.npy\", val_data)\n",
    "np.save(\"data/train_toydata_labels.npy\", train_labels)\n",
    "np.save(\"data/val_toydata_labels.npy\", val_labels)"
   ]
  }
 ],
 "metadata": {
  "kernelspec": {
   "display_name": "Python 3",
   "language": "python",
   "name": "python3"
  },
  "language_info": {
   "codemirror_mode": {
    "name": "ipython",
    "version": 3
   },
   "file_extension": ".py",
   "mimetype": "text/x-python",
   "name": "python",
   "nbconvert_exporter": "python",
   "pygments_lexer": "ipython3",
   "version": "3.9.1"
  }
 },
 "nbformat": 4,
 "nbformat_minor": 2
}