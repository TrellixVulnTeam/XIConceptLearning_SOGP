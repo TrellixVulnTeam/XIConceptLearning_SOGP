{
 "cells": [
  {
   "cell_type": "code",
   "execution_count": 1,
   "metadata": {},
   "outputs": [],
   "source": [
    "import numpy as np\n",
    "import matplotlib.pyplot as plt\n",
    "from PIL import Image, ImageDraw\n",
    "\n",
    "LABELS = ['square', 'circle', 'cyan', 'red', 'yellow', 'green']\n",
    "\n",
    "def gen_dataset(num_samples):\n",
    "    \n",
    "    colors = [(0, 192, 192),\n",
    "         (255, 0, 0),\n",
    "         (255, 255, 0), \n",
    "         (0, 255, 0)\n",
    "         ]\n",
    "    num_shapes = 2\n",
    "    num_colors = len(colors)\n",
    "    \n",
    "    dataset = []\n",
    "    labels = []\n",
    "    for i in range(num_samples):\n",
    "\n",
    "        # choose random color \n",
    "        color_id = np.random.randint(0, num_colors)\n",
    "        # randomly select a shape (either square or circle)\n",
    "        shape_id = np.random.randint(0, num_shapes)\n",
    "        # create object\n",
    "        im1 = Image.new('RGB', (28, 28), (128, 128, 128))\n",
    "        draw = ImageDraw.Draw(im1)\n",
    "        if shape_id == 0:\n",
    "            draw.rectangle((5, 5, 22, 22), fill=colors[color_id])\n",
    "        elif shape_id == 1:\n",
    "            draw.ellipse((5, 5, 22, 22), fill=colors[color_id])\n",
    "\n",
    "        label1 = np.zeros(num_shapes + num_colors)\n",
    "        label1[0:num_shapes][shape_id] = 1.\n",
    "        label1[num_shapes:][color_id] = 1.\n",
    "\n",
    "        # set to that of first object\n",
    "        color_id2 = color_id\n",
    "        # randomly select shape id that is different from first object\n",
    "        remaining_shape_ids = list(np.arange(0, num_shapes))\n",
    "        remaining_shape_ids.remove(shape_id)\n",
    "        shape_id2 = np.random.choice(remaining_shape_ids)\n",
    "        # create object\n",
    "        im2 = Image.new('RGB', (28, 28), (128, 128, 128))\n",
    "        draw = ImageDraw.Draw(im2)\n",
    "        if shape_id2 == 0:\n",
    "            draw.rectangle((5, 5, 22, 22), fill=colors[color_id2])\n",
    "        elif shape_id2 == 1:\n",
    "            draw.ellipse((5, 5, 22, 22), fill=colors[color_id2])\n",
    "\n",
    "        label2 = np.zeros(num_shapes + num_colors)\n",
    "        label2[0:num_shapes][shape_id2] = 1.\n",
    "        label2[num_shapes:][color_id2] = 1.\n",
    "\n",
    "        # pair both images and labels of these\n",
    "        labels.append([label1, label2])\n",
    "        imgs_np = [np.array(im1), np.array(im2)]\n",
    "        dataset.append(imgs_np)\n",
    "    \n",
    "    return np.array(dataset), np.array(labels)"
   ]
  },
  {
   "cell_type": "code",
   "execution_count": 2,
   "metadata": {},
   "outputs": [],
   "source": [
    "num_train_samples = 10000\n",
    "num_val_samples = 1000\n",
    "\n",
    "train_data, train_labels = gen_dataset(num_train_samples)\n",
    "val_data, val_labels = gen_dataset(num_val_samples)"
   ]
  },
  {
   "cell_type": "code",
   "execution_count": 3,
   "metadata": {},
   "outputs": [
    {
     "data": {
      "text/plain": "<Figure size 432x288 with 2 Axes>",
      "image/png": "[encoded data removed]"
     },
     "metadata": {
      "needs_background": "light"
     },
     "output_type": "display_data"
    },
    {
     "data": {
      "text/plain": "<Figure size 432x288 with 2 Axes>",
      "image/png": "[encoded data removed]"
     },
     "metadata": {
      "needs_background": "light"
     },
     "output_type": "display_data"
    },
    {
     "data": {
      "text/plain": "<Figure size 432x288 with 2 Axes>",
      "image/png": "[encoded data removed]"
     },
     "metadata": {
      "needs_background": "light"
     },
     "output_type": "display_data"
    },
    {
     "data": {
      "text/plain": "<Figure size 432x288 with 2 Axes>",
      "image/png": "[encoded data removed]"
     },
     "metadata": {
      "needs_background": "light"
     },
     "output_type": "display_data"
    }
   ],
   "source": [
    "fig, axs = plt.subplots(1, 2)\n",
    "axs[0].imshow(train_data[0, 0])\n",
    "axs[1].imshow(train_data[0, 1])\n",
    "plt.suptitle(f\"Labels: \\n{train_labels[0]}\")\n",
    "plt.show()\n",
    "\n",
    "fig, axs = plt.subplots(1, 2)\n",
    "axs[0].imshow(train_data[2, 0])\n",
    "axs[1].imshow(train_data[2, 1])\n",
    "plt.suptitle(f\"Labels: \\n{train_labels[2]}\")\n",
    "plt.show()\n",
    "\n",
    "fig, axs = plt.subplots(1, 2)\n",
    "axs[0].imshow(train_data[10, 0])\n",
    "axs[1].imshow(train_data[10, 1])\n",
    "plt.suptitle(f\"Labels: \\n{train_labels[10]}\")\n",
    "plt.show()\n",
    "\n",
    "fig, axs = plt.subplots(1, 2)\n",
    "axs[0].imshow(train_data[8, 0])\n",
    "axs[1].imshow(train_data[8, 1])\n",
    "plt.suptitle(f\"Labels: \\n{train_labels[8]}\")\n",
    "plt.show()"
   ]
  },
  {
   "cell_type": "code",
   "execution_count": 4,
   "metadata": {},
   "outputs": [],
   "source": [
    "np.save(\"../Data/train_toydata_samecolor_difshape_pairs.npy\", train_data)\n",
    "# np.save(\"data/val_toydata_color_shape_pairs.npy\", val_data)\n",
    "np.save(\"../Data/train_toydata_samecolor_difshape_labels_pairs.npy\", train_labels)\n",
    "# np.save(\"data/val_toydata_labels_pairs.npy\", val_labels)"
   ]
  },
  {
   "cell_type": "code",
   "execution_count": 39,
   "metadata": {},
   "outputs": [],
   "source": [
    "x = np.zeros(10)"
   ]
  },
  {
   "cell_type": "code",
   "execution_count": 40,
   "metadata": {},
   "outputs": [],
   "source": [
    "x[6:][2] = 1"
   ]
  },
  {
   "cell_type": "code",
   "execution_count": 41,
   "metadata": {},
   "outputs": [
    {
     "data": {
      "text/plain": [
       "array([0., 0., 0., 0., 0., 0., 0., 0., 1., 0.])"
      ]
     },
     "execution_count": 41,
     "metadata": {},
     "output_type": "execute_result"
    }
   ],
   "source": [
    "x"
   ]
  },
  {
   "cell_type": "code",
   "execution_count": null,
   "metadata": {},
   "outputs": [],
   "source": []
  }
 ],
 "metadata": {
  "kernelspec": {
   "display_name": "Python 3",
   "language": "python",
   "name": "python3"
  },
  "language_info": {
   "codemirror_mode": {
    "name": "ipython",
    "version": 3
   },
   "file_extension": ".py",
   "mimetype": "text/x-python",
   "name": "python",
   "nbconvert_exporter": "python",
   "pygments_lexer": "ipython3",
   "version": "3.9.1"
  }
 },
 "nbformat": 4,
 "nbformat_minor": 2
}